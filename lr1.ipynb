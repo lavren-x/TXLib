{
  "nbformat": 4,
  "nbformat_minor": 0,
  "metadata": {
    "colab": {
      "provenance": [],
      "authorship_tag": "ABX9TyOlNfEW1SagYxVqKowwOdFt"
    },
    "kernelspec": {
      "name": "python3",
      "display_name": "Python 3"
    },
    "language_info": {
      "name": "python"
    }
  },
  "cells": [
    {
      "cell_type": "markdown",
      "source": [
        "#Пример использования MarkDown"
      ],
      "metadata": {
        "id": "VdNjmA7XbLrL"
      }
    },
    {
      "cell_type": "markdown",
      "source": [
        "Нужно сделать:"
      ],
      "metadata": {
        "id": "O0nMPh93bJ6j"
      }
    },
    {
      "cell_type": "markdown",
      "source": [
        "* Список\n",
        "* Рисунок\n",
        "* Таблицу\n",
        "* Ссылку"
      ],
      "metadata": {
        "id": "o_KWjzOiZEZ-"
      }
    },
    {
      "cell_type": "markdown",
      "source": [
        "![all text](https://wp-s.ru/wallpapers/0/5/561029086232962/krasivyj-malenkij-kotik-lezhit.jpg)"
      ],
      "metadata": {
        "id": "_6j_IPHkbwsl"
      }
    },
    {
      "cell_type": "markdown",
      "source": [
        "<table>\n",
        "  <tr>\n",
        "\n",
        "   <th>Company name </th>\n",
        "   <th> Founder </th>\n",
        "\n",
        "  </tr>\n",
        "  <tr>\n",
        "  \n",
        "   <td>Microsoft </td>\n",
        "   <td> Bill Gates </td>\n",
        "\n",
        "  </tr>\n",
        "  <tr>\n",
        "  \n",
        "   <td>Facebook </td>\n",
        "   <td> Mark Zuckerberg </td>\n",
        "\n",
        "  </tr>\n",
        "  </table>"
      ],
      "metadata": {
        "id": "ubmWTblmchJP"
      }
    },
    {
      "cell_type": "markdown",
      "source": [
        "[Мультфильм](https://www.youtube.com/live/7BIGT8wci3k?si=ybVGX3XyH_Iqlq4u)"
      ],
      "metadata": {
        "id": "fvbpOeOHbYW6"
      }
    }
  ]
}