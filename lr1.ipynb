{
  "nbformat": 4,
  "nbformat_minor": 0,
  "metadata": {
    "colab": {
      "provenance": [],
      "authorship_tag": "ABX9TyPkFNuVF008nvYGK1wRXfoU"
    },
    "kernelspec": {
      "name": "python3",
      "display_name": "Python 3"
    },
    "language_info": {
      "name": "python"
    }
  },
  "cells": [
    {
      "cell_type": "markdown",
      "source": [
        "#Пример использования MarkDown\n",
        "Нужно сделать:\n",
        "1. Список\n",
        "2. Рисунок\n",
        "3. Таблицу\n",
        "4. Ссылку\n",
        "\n",
        "![all text](https://i.ytimg.com/vi/v9N5CgYFLpM/mqdefault.jpg)\n",
        "\n",
        "\n",
        "\n",
        "<table>\n",
        "  <tr>\n",
        "\n",
        "   <th>Company name </th>\n",
        "   <th> Founder </th>\n",
        "\n",
        "  </tr>\n",
        "  <tr>\n",
        "  \n",
        "   <td>Microsoft </td>\n",
        "   <td> Bill Gates </td>\n",
        "\n",
        "  </tr>\n",
        "  <tr>\n",
        "  \n",
        "   <td>Facebook </td>\n",
        "   <td> Mark Zuckerberg </td>\n",
        "\n",
        "  </tr>\n",
        "  </table>\n",
        "\n",
        "\n",
        "  [Мультфильм](https://www.youtube.com/live/7BIGT8wci3k?si=ybVGX3XyH_Iqlq4u)"
      ],
      "metadata": {
        "id": "VdNjmA7XbLrL"
      }
    }
  ]
}